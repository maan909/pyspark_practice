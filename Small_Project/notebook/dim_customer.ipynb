{
 "cells": [
  {
   "cell_type": "markdown",
   "metadata": {},
   "source": [
    "Installing dependencies"
   ]
  },
  {
   "cell_type": "code",
   "execution_count": null,
   "metadata": {},
   "outputs": [],
   "source": [
    "import findspark\n",
    "from pyspark.sql import SparkSession\n",
    "from pyspark.sql.functions import col\n",
    "f\n"
   ]
  },
  {
   "cell_type": "code",
   "execution_count": 2,
   "metadata": {},
   "outputs": [
    {
     "data": {
      "text/html": [
       "\n",
       "            <div>\n",
       "                <p><b>SparkSession - in-memory</b></p>\n",
       "                \n",
       "        <div>\n",
       "            <p><b>SparkContext</b></p>\n",
       "\n",
       "            <p><a href=\"http://172.10.10.83:4041\">Spark UI</a></p>\n",
       "\n",
       "            <dl>\n",
       "              <dt>Version</dt>\n",
       "                <dd><code>v3.5.5</code></dd>\n",
       "              <dt>Master</dt>\n",
       "                <dd><code>local[*]</code></dd>\n",
       "              <dt>AppName</dt>\n",
       "                <dd><code>small_project_pyspark</code></dd>\n",
       "            </dl>\n",
       "        </div>\n",
       "        \n",
       "            </div>\n",
       "        "
      ],
      "text/plain": [
       "<pyspark.sql.session.SparkSession at 0x228ce3bf100>"
      ]
     },
     "execution_count": 2,
     "metadata": {},
     "output_type": "execute_result"
    }
   ],
   "source": [
    "# create spark session\n",
    "findspark.init()\n",
    "spark = SparkSession.builder.appName(\"small_project_pyspark\").getOrCreate()\n",
    "spark"
   ]
  },
  {
   "cell_type": "code",
   "execution_count": 11,
   "metadata": {},
   "outputs": [],
   "source": [
    "ct_df=spark.read.csv('C:\\spark_training\\Small_Project\\components\\data\\dim_customers.csv',inferSchema=True, header=True)"
   ]
  },
  {
   "cell_type": "code",
   "execution_count": 12,
   "metadata": {},
   "outputs": [
    {
     "name": "stdout",
     "output_type": "stream",
     "text": [
      "root\n",
      " |-- customer_id: string (nullable = true)\n",
      " |-- age_group: string (nullable = true)\n",
      " |-- city: string (nullable = true)\n",
      " |-- occupation: string (nullable = true)\n",
      " |-- gender: string (nullable = true)\n",
      " |-- marital status: string (nullable = true)\n",
      " |-- avg_income: integer (nullable = true)\n",
      "\n",
      "+-----------+---------+---------+--------------------+------+--------------+----------+\n",
      "|customer_id|age_group|     city|          occupation|gender|marital status|avg_income|\n",
      "+-----------+---------+---------+--------------------+------+--------------+----------+\n",
      "| ATQCUS1825|      45+|Bengaluru|Salaried IT Emplo...|  Male|       Married|     73523|\n",
      "| ATQCUS0809|    25-34|Hyderabad|Salaried Other Em...|  Male|       Married|     39922|\n",
      "| ATQCUS0663|    25-34|  Chennai|Salaried Other Em...|  Male|       Married|     37702|\n",
      "| ATQCUS0452|    25-34|Delhi NCR|Government Employees|  Male|       Married|     54090|\n",
      "| ATQCUS3350|    21-24|Bengaluru|         Freelancers|  Male|        Single|     28376|\n",
      "| ATQCUS3256|    21-24|Delhi NCR|Salaried IT Emplo...|  Male|        Single|     46586|\n",
      "| ATQCUS3608|    25-34|  Chennai|         Freelancers|  Male|        Single|     34966|\n",
      "| ATQCUS0611|    25-34|  Chennai|Salaried IT Emplo...|  Male|       Married|     59078|\n",
      "| ATQCUS3856|    21-24|Bengaluru|Salaried Other Em...|Female|        Single|     30424|\n",
      "| ATQCUS2640|    35-45|Delhi NCR|Salaried IT Emplo...|Female|       Married|     67450|\n",
      "| ATQCUS3008|      45+|   Mumbai|Government Employees|Female|       Married|     62542|\n",
      "| ATQCUS2365|    25-34|  Chennai|Salaried IT Emplo...|Female|       Married|     62738|\n",
      "| ATQCUS1141|    35-45|Delhi NCR|     Business Owners|  Male|       Married|     72301|\n",
      "| ATQCUS2853|    35-45|  Chennai|     Business Owners|Female|       Married|     74783|\n",
      "| ATQCUS3020|      45+|Delhi NCR|Salaried IT Emplo...|Female|       Married|     73754|\n",
      "| ATQCUS2442|    25-34|  Chennai|Government Employees|Female|       Married|     54575|\n",
      "| ATQCUS3943|    25-34|Delhi NCR|Salaried IT Emplo...|Female|        Single|     60269|\n",
      "| ATQCUS1679|      45+|   Mumbai|Salaried Other Em...|  Male|       Married|     41845|\n",
      "| ATQCUS0744|    25-34|  Chennai|         Freelancers|  Male|       Married|     33831|\n",
      "| ATQCUS3335|    21-24|Bengaluru|     Business Owners|  Male|        Single|     54149|\n",
      "+-----------+---------+---------+--------------------+------+--------------+----------+\n",
      "only showing top 20 rows\n",
      "\n"
     ]
    }
   ],
   "source": [
    "ct_df.printSchema()\n",
    "ct_df.show()"
   ]
  },
  {
   "cell_type": "code",
   "execution_count": null,
   "metadata": {},
   "outputs": [
    {
     "name": "stdout",
     "output_type": "stream",
     "text": [
      "+-----------+---------+----+----------+------+--------------+----------+\n",
      "|customer_id|age_group|city|occupation|gender|marital status|avg_income|\n",
      "+-----------+---------+----+----------+------+--------------+----------+\n",
      "+-----------+---------+----+----------+------+--------------+----------+\n",
      "\n"
     ]
    }
   ],
   "source": [
    "ct_df.filter(col(\"avg_income\").isNull()).show() \n",
    "# there are no null values in income column "
   ]
  },
  {
   "cell_type": "code",
   "execution_count": 18,
   "metadata": {},
   "outputs": [
    {
     "name": "stdout",
     "output_type": "stream",
     "text": [
      "+-----------+---------+---------+--------------------+------+--------------+----------+\n",
      "|customer_id|age_group|     city|          occupation|gender|marital_status|avg_income|\n",
      "+-----------+---------+---------+--------------------+------+--------------+----------+\n",
      "| ATQCUS1825|      45+|Bengaluru|Salaried IT Emplo...|  Male|       Married|     73523|\n",
      "| ATQCUS0809|    25-34|Hyderabad|Salaried Other Em...|  Male|       Married|     39922|\n",
      "| ATQCUS0663|    25-34|  Chennai|Salaried Other Em...|  Male|       Married|     37702|\n",
      "| ATQCUS0452|    25-34|Delhi NCR|Government Employees|  Male|       Married|     54090|\n",
      "| ATQCUS3350|    21-24|Bengaluru|         Freelancers|  Male|        Single|     28376|\n",
      "| ATQCUS3256|    21-24|Delhi NCR|Salaried IT Emplo...|  Male|        Single|     46586|\n",
      "| ATQCUS3608|    25-34|  Chennai|         Freelancers|  Male|        Single|     34966|\n",
      "| ATQCUS0611|    25-34|  Chennai|Salaried IT Emplo...|  Male|       Married|     59078|\n",
      "| ATQCUS3856|    21-24|Bengaluru|Salaried Other Em...|Female|        Single|     30424|\n",
      "| ATQCUS2640|    35-45|Delhi NCR|Salaried IT Emplo...|Female|       Married|     67450|\n",
      "| ATQCUS3008|      45+|   Mumbai|Government Employees|Female|       Married|     62542|\n",
      "| ATQCUS2365|    25-34|  Chennai|Salaried IT Emplo...|Female|       Married|     62738|\n",
      "| ATQCUS1141|    35-45|Delhi NCR|     Business Owners|  Male|       Married|     72301|\n",
      "| ATQCUS2853|    35-45|  Chennai|     Business Owners|Female|       Married|     74783|\n",
      "| ATQCUS3020|      45+|Delhi NCR|Salaried IT Emplo...|Female|       Married|     73754|\n",
      "| ATQCUS2442|    25-34|  Chennai|Government Employees|Female|       Married|     54575|\n",
      "| ATQCUS3943|    25-34|Delhi NCR|Salaried IT Emplo...|Female|        Single|     60269|\n",
      "| ATQCUS1679|      45+|   Mumbai|Salaried Other Em...|  Male|       Married|     41845|\n",
      "| ATQCUS0744|    25-34|  Chennai|         Freelancers|  Male|       Married|     33831|\n",
      "| ATQCUS3335|    21-24|Bengaluru|     Business Owners|  Male|        Single|     54149|\n",
      "+-----------+---------+---------+--------------------+------+--------------+----------+\n",
      "only showing top 20 rows\n",
      "\n"
     ]
    }
   ],
   "source": [
    "# renaming the column name\n",
    "ct_df.withColumnRenamed('marital status', 'marital_status').show()"
   ]
  },
  {
   "cell_type": "code",
   "execution_count": 21,
   "metadata": {},
   "outputs": [
    {
     "name": "stdout",
     "output_type": "stream",
     "text": [
      "+-----------+---------+---------+--------------------+------+--------------+----------+--------------------+----------+\n",
      "|customer_id|age_group|     city|          occupation|gender|marital status|avg_income|           timestamp|net_salary|\n",
      "+-----------+---------+---------+--------------------+------+--------------+----------+--------------------+----------+\n",
      "| ATQCUS1825|      45+|Bengaluru|Salaried IT Emplo...|  Male|       Married|     73523|2025-03-06 18:50:...|   80875.3|\n",
      "| ATQCUS0809|    25-34|Hyderabad|Salaried Other Em...|  Male|       Married|     39922|2025-03-06 18:50:...|   43914.2|\n",
      "| ATQCUS0663|    25-34|  Chennai|Salaried Other Em...|  Male|       Married|     37702|2025-03-06 18:50:...|   41472.2|\n",
      "| ATQCUS0452|    25-34|Delhi NCR|Government Employees|  Male|       Married|     54090|2025-03-06 18:50:...|   59499.0|\n",
      "| ATQCUS3350|    21-24|Bengaluru|         Freelancers|  Male|        Single|     28376|2025-03-06 18:50:...|   31213.6|\n",
      "| ATQCUS3256|    21-24|Delhi NCR|Salaried IT Emplo...|  Male|        Single|     46586|2025-03-06 18:50:...|   51244.6|\n",
      "| ATQCUS3608|    25-34|  Chennai|         Freelancers|  Male|        Single|     34966|2025-03-06 18:50:...|   38462.6|\n",
      "| ATQCUS0611|    25-34|  Chennai|Salaried IT Emplo...|  Male|       Married|     59078|2025-03-06 18:50:...|   64985.8|\n",
      "| ATQCUS3856|    21-24|Bengaluru|Salaried Other Em...|Female|        Single|     30424|2025-03-06 18:50:...|   33466.4|\n",
      "| ATQCUS2640|    35-45|Delhi NCR|Salaried IT Emplo...|Female|       Married|     67450|2025-03-06 18:50:...|   74195.0|\n",
      "| ATQCUS3008|      45+|   Mumbai|Government Employees|Female|       Married|     62542|2025-03-06 18:50:...|   68796.2|\n",
      "| ATQCUS2365|    25-34|  Chennai|Salaried IT Emplo...|Female|       Married|     62738|2025-03-06 18:50:...|   69011.8|\n",
      "| ATQCUS1141|    35-45|Delhi NCR|     Business Owners|  Male|       Married|     72301|2025-03-06 18:50:...|   79531.1|\n",
      "| ATQCUS2853|    35-45|  Chennai|     Business Owners|Female|       Married|     74783|2025-03-06 18:50:...|   82261.3|\n",
      "| ATQCUS3020|      45+|Delhi NCR|Salaried IT Emplo...|Female|       Married|     73754|2025-03-06 18:50:...|   81129.4|\n",
      "| ATQCUS2442|    25-34|  Chennai|Government Employees|Female|       Married|     54575|2025-03-06 18:50:...|   60032.5|\n",
      "| ATQCUS3943|    25-34|Delhi NCR|Salaried IT Emplo...|Female|        Single|     60269|2025-03-06 18:50:...|   66295.9|\n",
      "| ATQCUS1679|      45+|   Mumbai|Salaried Other Em...|  Male|       Married|     41845|2025-03-06 18:50:...|   46029.5|\n",
      "| ATQCUS0744|    25-34|  Chennai|         Freelancers|  Male|       Married|     33831|2025-03-06 18:50:...|   37214.1|\n",
      "| ATQCUS3335|    21-24|Bengaluru|     Business Owners|  Male|        Single|     54149|2025-03-06 18:50:...|   59563.9|\n",
      "+-----------+---------+---------+--------------------+------+--------------+----------+--------------------+----------+\n",
      "only showing top 20 rows\n",
      "\n"
     ]
    }
   ],
   "source": [
    "from pyspark.sql.functions import lit\n",
    "from datetime import datetime\n",
    "\n",
    "new_ct_df = ct_df.withColumn(\"timestamp\", lit(datetime.now())).withColumn(\"net_salary\", col(\"avg_income\") + (0.1 * col(\"avg_income\")))\n",
    "new_ct_df.show()"
   ]
  },
  {
   "cell_type": "code",
   "execution_count": 33,
   "metadata": {},
   "outputs": [],
   "source": [
    "from pyspark.sql.functions import window, rank"
   ]
  },
  {
   "cell_type": "code",
   "execution_count": 32,
   "metadata": {},
   "outputs": [],
   "source": [
    "CityPartition = Window.partitionBy('city').orderBy('net_salary')\n",
    "OccupationPartition = Window.partitionBy('occupation').orderBy('net_salary')"
   ]
  },
  {
   "cell_type": "code",
   "execution_count": 35,
   "metadata": {},
   "outputs": [
    {
     "name": "stdout",
     "output_type": "stream",
     "text": [
      "+-----------+---------+---------+-----------+------+--------------+----------+--------------------+----------+----+\n",
      "|customer_id|age_group|     city| occupation|gender|marital status|avg_income|           timestamp|net_salary|rank|\n",
      "+-----------+---------+---------+-----------+------+--------------+----------+--------------------+----------+----+\n",
      "| ATQCUS3345|    21-24|Bengaluru|Freelancers|  Male|        Single|     24888|2025-03-06 18:50:...|   27376.8|   1|\n",
      "| ATQCUS2053|    21-24|Bengaluru|Freelancers|Female|       Married|     24995|2025-03-06 18:50:...|   27494.5|   2|\n",
      "| ATQCUS0082|    21-24|Bengaluru|Freelancers|  Male|       Married|     25301|2025-03-06 18:50:...|   27831.1|   3|\n",
      "| ATQCUS3864|    21-24|Bengaluru|Freelancers|Female|        Single|     25537|2025-03-06 18:50:...|   28090.7|   4|\n",
      "| ATQCUS3347|    21-24|Bengaluru|Freelancers|  Male|        Single|     25653|2025-03-06 18:50:...|   28218.3|   5|\n",
      "| ATQCUS3859|    21-24|Bengaluru|Freelancers|Female|        Single|     26125|2025-03-06 18:50:...|   28737.5|   6|\n",
      "| ATQCUS0078|    21-24|Bengaluru|Freelancers|  Male|       Married|     26296|2025-03-06 18:50:...|   28925.6|   7|\n",
      "| ATQCUS3343|    21-24|Bengaluru|Freelancers|  Male|        Single|     26316|2025-03-06 18:50:...|   28947.6|   8|\n",
      "| ATQCUS0081|    21-24|Bengaluru|Freelancers|  Male|       Married|     26626|2025-03-06 18:50:...|   29288.6|   9|\n",
      "| ATQCUS3860|    21-24|Bengaluru|Freelancers|Female|        Single|     26873|2025-03-06 18:50:...|   29560.3|  10|\n",
      "| ATQCUS0080|    21-24|Bengaluru|Freelancers|  Male|       Married|     26939|2025-03-06 18:50:...|   29632.9|  11|\n",
      "| ATQCUS3339|    21-24|Bengaluru|Freelancers|  Male|        Single|     27034|2025-03-06 18:50:...|   29737.4|  12|\n",
      "| ATQCUS0084|    21-24|Bengaluru|Freelancers|  Male|       Married|     27110|2025-03-06 18:50:...|   29821.0|  13|\n",
      "| ATQCUS3340|    21-24|Bengaluru|Freelancers|  Male|        Single|     27161|2025-03-06 18:50:...|   29877.1|  14|\n",
      "| ATQCUS3863|    21-24|Bengaluru|Freelancers|Female|        Single|     27265|2025-03-06 18:50:...|   29991.5|  15|\n",
      "| ATQCUS3861|    21-24|Bengaluru|Freelancers|Female|        Single|     27356|2025-03-06 18:50:...|   30091.6|  16|\n",
      "| ATQCUS3862|    21-24|Bengaluru|Freelancers|Female|        Single|     27488|2025-03-06 18:50:...|   30236.8|  17|\n",
      "| ATQCUS3349|    21-24|Bengaluru|Freelancers|  Male|        Single|     27729|2025-03-06 18:50:...|   30501.9|  18|\n",
      "| ATQCUS3341|    21-24|Bengaluru|Freelancers|  Male|        Single|     27759|2025-03-06 18:50:...|   30534.9|  19|\n",
      "| ATQCUS3342|    21-24|Bengaluru|Freelancers|  Male|        Single|     27794|2025-03-06 18:50:...|   30573.4|  20|\n",
      "+-----------+---------+---------+-----------+------+--------------+----------+--------------------+----------+----+\n",
      "only showing top 20 rows\n",
      "\n"
     ]
    }
   ],
   "source": [
    "# ranking on city partition\n",
    "new_ct_df_cityrank = new_ct_df.withColumn('rank', rank().over(CityPartition))\n",
    "new_ct_df_cityrank.show()"
   ]
  },
  {
   "cell_type": "code",
   "execution_count": 36,
   "metadata": {},
   "outputs": [
    {
     "name": "stdout",
     "output_type": "stream",
     "text": [
      "+-----------+---------+---------+---------------+------+--------------+----------+--------------------+----------+----+\n",
      "|customer_id|age_group|     city|     occupation|gender|marital status|avg_income|           timestamp|net_salary|rank|\n",
      "+-----------+---------+---------+---------------+------+--------------+----------+--------------------+----------+----+\n",
      "| ATQCUS0075|    21-24|Bengaluru|Business Owners|  Male|       Married|     49549|2025-03-06 18:50:...|   54503.9|   1|\n",
      "| ATQCUS3207|    21-24|   Mumbai|Business Owners|  Male|        Single|     50101|2025-03-06 18:50:...|   55111.1|   2|\n",
      "| ATQCUS3790|    21-24|   Mumbai|Business Owners|Female|        Single|     50353|2025-03-06 18:50:...|   55388.3|   3|\n",
      "| ATQCUS3216|    21-24|   Mumbai|Business Owners|  Male|        Single|     50647|2025-03-06 18:50:...|   55711.7|   4|\n",
      "| ATQCUS3336|    21-24|Bengaluru|Business Owners|  Male|        Single|     50673|2025-03-06 18:50:...|   55740.3|   5|\n",
      "| ATQCUS3285|    21-24|Delhi NCR|Business Owners|  Male|        Single|     51007|2025-03-06 18:50:...|   56107.7|   6|\n",
      "| ATQCUS3434|    21-24|Hyderabad|Business Owners|  Male|        Single|     51058|2025-03-06 18:50:...|   56163.8|   7|\n",
      "| ATQCUS3204|    21-24|   Mumbai|Business Owners|  Male|        Single|     51122|2025-03-06 18:50:...|   56234.2|   8|\n",
      "| ATQCUS3383|    21-24|  Chennai|Business Owners|  Male|        Single|     51187|2025-03-06 18:50:...|   56305.7|   9|\n",
      "| ATQCUS0055|    21-24|Delhi NCR|Business Owners|  Male|       Married|     51203|2025-03-06 18:50:...|   56323.3|  10|\n",
      "| ATQCUS3217|    21-24|   Mumbai|Business Owners|  Male|        Single|     51281|2025-03-06 18:50:...|   56409.1|  11|\n",
      "| ATQCUS3209|    21-24|   Mumbai|Business Owners|  Male|        Single|     51496|2025-03-06 18:50:...|   56645.6|  12|\n",
      "| ATQCUS3884|    21-24|  Chennai|Business Owners|Female|        Single|     51505|2025-03-06 18:50:...|   56655.5|  13|\n",
      "| ATQCUS3788|    21-24|   Mumbai|Business Owners|Female|        Single|     51886|2025-03-06 18:50:...|   57074.6|  14|\n",
      "| ATQCUS0116|    21-24|Hyderabad|Business Owners|  Male|       Married|     51906|2025-03-06 18:50:...|   57096.6|  15|\n",
      "| ATQCUS0026|    21-24|   Mumbai|Business Owners|  Male|       Married|     51916|2025-03-06 18:50:...|   57107.6|  16|\n",
      "| ATQCUS3388|    21-24|  Chennai|Business Owners|  Male|        Single|     51984|2025-03-06 18:50:...|   57182.4|  17|\n",
      "| ATQCUS3210|    21-24|   Mumbai|Business Owners|  Male|        Single|     52029|2025-03-06 18:50:...|   57231.9|  18|\n",
      "| ATQCUS3828|    21-24|Delhi NCR|Business Owners|Female|        Single|     52142|2025-03-06 18:50:...|   57356.2|  19|\n",
      "| ATQCUS3330|    21-24|Bengaluru|Business Owners|  Male|        Single|     52206|2025-03-06 18:50:...|   57426.6|  20|\n",
      "+-----------+---------+---------+---------------+------+--------------+----------+--------------------+----------+----+\n",
      "only showing top 20 rows\n",
      "\n"
     ]
    }
   ],
   "source": [
    "# ranking on occupation partition \n",
    "new_ct_df_occupationrank = new_ct_df.withColumn('rank', rank().over(OccupationPartition))\n",
    "new_ct_df_occupationrank.show()"
   ]
  },
  {
   "cell_type": "code",
   "execution_count": 37,
   "metadata": {},
   "outputs": [],
   "source": [
    "challenge_1=new_ct_df.write.mode(\"overwrite\").parquet(\"C:\\\\spark_training\\\\Small_Project\\\\components\\\\challenge_file.parquet\")"
   ]
  },
  {
   "cell_type": "markdown",
   "metadata": {},
   "source": [
    "7. Matplotlib"
   ]
  },
  {
   "cell_type": "code",
   "execution_count": null,
   "metadata": {},
   "outputs": [],
   "source": [
    "import matplotlib.pyplot as plt"
   ]
  },
  {
   "cell_type": "code",
   "execution_count": null,
   "metadata": {},
   "outputs": [],
   "source": []
  }
 ],
 "metadata": {
  "kernelspec": {
   "display_name": "sparkenv",
   "language": "python",
   "name": "python3"
  },
  "language_info": {
   "codemirror_mode": {
    "name": "ipython",
    "version": 3
   },
   "file_extension": ".py",
   "mimetype": "text/x-python",
   "name": "python",
   "nbconvert_exporter": "python",
   "pygments_lexer": "ipython3",
   "version": "3.10.0"
  }
 },
 "nbformat": 4,
 "nbformat_minor": 2
}
