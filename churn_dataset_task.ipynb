{
 "cells": [
  {
   "cell_type": "markdown",
   "metadata": {},
   "source": [
    "TASK-1"
   ]
  },
  {
   "cell_type": "code",
   "execution_count": 6,
   "metadata": {},
   "outputs": [],
   "source": [
    "import findspark\n",
    "from pyspark.sql import SparkSession\n",
    "\n"
   ]
  },
  {
   "cell_type": "code",
   "execution_count": 7,
   "metadata": {},
   "outputs": [
    {
     "data": {
      "text/html": [
       "\n",
       "            <div>\n",
       "                <p><b>SparkSession - in-memory</b></p>\n",
       "                \n",
       "        <div>\n",
       "            <p><b>SparkContext</b></p>\n",
       "\n",
       "            <p><a href=\"http://172.10.10.83:4040\">Spark UI</a></p>\n",
       "\n",
       "            <dl>\n",
       "              <dt>Version</dt>\n",
       "                <dd><code>v3.5.5</code></dd>\n",
       "              <dt>Master</dt>\n",
       "                <dd><code>local[*]</code></dd>\n",
       "              <dt>AppName</dt>\n",
       "                <dd><code>chur_dataset</code></dd>\n",
       "            </dl>\n",
       "        </div>\n",
       "        \n",
       "            </div>\n",
       "        "
      ],
      "text/plain": [
       "<pyspark.sql.session.SparkSession at 0x1eae7ccfc40>"
      ]
     },
     "execution_count": 7,
     "metadata": {},
     "output_type": "execute_result"
    }
   ],
   "source": [
    "findspark.init()\n",
    "\n",
    "spark = SparkSession.builder.appName('chur_dataset').getOrCreate()\n",
    "spark"
   ]
  },
  {
   "cell_type": "code",
   "execution_count": 8,
   "metadata": {},
   "outputs": [],
   "source": [
    "churn_df = spark.read.csv('Data\\churn.csv', header=True, inferSchema=True)"
   ]
  },
  {
   "cell_type": "code",
   "execution_count": 9,
   "metadata": {},
   "outputs": [
    {
     "name": "stdout",
     "output_type": "stream",
     "text": [
      "+---------+----------+---------+-----------+---------+------+---+------+---------+-------------+---------+--------------+---------------+------+\n",
      "|RowNumber|CustomerId|  Surname|CreditScore|Geography|Gender|Age|Tenure|  Balance|NumOfProducts|HasCrCard|IsActiveMember|EstimatedSalary|Exited|\n",
      "+---------+----------+---------+-----------+---------+------+---+------+---------+-------------+---------+--------------+---------------+------+\n",
      "|        1|  15634602| Hargrave|        619|   France|Female| 42|     2|      0.0|            1|        1|             1|      101348.88|     1|\n",
      "|        2|  15647311|     Hill|        608|    Spain|Female| 41|     1| 83807.86|            1|        0|             1|      112542.58|     0|\n",
      "|        3|  15619304|     Onio|        502|   France|Female| 42|     8| 159660.8|            3|        1|             0|      113931.57|     1|\n",
      "|        4|  15701354|     Boni|        699|   France|Female| 39|     1|      0.0|            2|        0|             0|       93826.63|     0|\n",
      "|        5|  15737888| Mitchell|        850|    Spain|Female| 43|     2|125510.82|            1|        1|             1|        79084.1|     0|\n",
      "|        6|  15574012|      Chu|        645|    Spain|  Male| 44|     8|113755.78|            2|        1|             0|      149756.71|     1|\n",
      "|        7|  15592531| Bartlett|        822|   France|  Male| 50|     7|      0.0|            2|        1|             1|        10062.8|     0|\n",
      "|        8|  15656148|   Obinna|        376|  Germany|Female| 29|     4|115046.74|            4|        1|             0|      119346.88|     1|\n",
      "|        9|  15792365|       He|        501|   France|  Male| 44|     4|142051.07|            2|        0|             1|        74940.5|     0|\n",
      "|       10|  15592389|       H?|        684|   France|  Male| 27|     2|134603.88|            1|        1|             1|       71725.73|     0|\n",
      "|       11|  15767821|   Bearce|        528|   France|  Male| 31|     6|102016.72|            2|        0|             0|       80181.12|     0|\n",
      "|       12|  15737173|  Andrews|        497|    Spain|  Male| 24|     3|      0.0|            2|        1|             0|       76390.01|     0|\n",
      "|       13|  15632264|      Kay|        476|   France|Female| 34|    10|      0.0|            2|        1|             0|       26260.98|     0|\n",
      "|       14|  15691483|     Chin|        549|   France|Female| 25|     5|      0.0|            2|        0|             0|      190857.79|     0|\n",
      "|       15|  15600882|    Scott|        635|    Spain|Female| 35|     7|      0.0|            2|        1|             1|       65951.65|     0|\n",
      "|       16|  15643966|  Goforth|        616|  Germany|  Male| 45|     3|143129.41|            2|        0|             1|       64327.26|     0|\n",
      "|       17|  15737452|    Romeo|        653|  Germany|  Male| 58|     1|132602.88|            1|        1|             0|        5097.67|     1|\n",
      "|       18|  15788218|Henderson|        549|    Spain|Female| 24|     9|      0.0|            2|        1|             1|       14406.41|     0|\n",
      "|       19|  15661507|  Muldrow|        587|    Spain|  Male| 45|     6|      0.0|            1|        0|             0|      158684.81|     0|\n",
      "|       20|  15568982|      Hao|        726|   France|Female| 24|     6|      0.0|            2|        1|             1|       54724.03|     0|\n",
      "+---------+----------+---------+-----------+---------+------+---+------+---------+-------------+---------+--------------+---------------+------+\n",
      "only showing top 20 rows\n",
      "\n"
     ]
    }
   ],
   "source": [
    "churn_df.show()"
   ]
  },
  {
   "cell_type": "code",
   "execution_count": 10,
   "metadata": {},
   "outputs": [],
   "source": [
    "test = churn_df.filter(churn_df.Tenure == 3)  # there are no data with tenure less than "
   ]
  },
  {
   "cell_type": "code",
   "execution_count": 11,
   "metadata": {},
   "outputs": [
    {
     "name": "stdout",
     "output_type": "stream",
     "text": [
      "+---------+----------+----------+-----------+---------+------+---+------+---------+-------------+---------+--------------+---------------+------+\n",
      "|RowNumber|CustomerId|   Surname|CreditScore|Geography|Gender|Age|Tenure|  Balance|NumOfProducts|HasCrCard|IsActiveMember|EstimatedSalary|Exited|\n",
      "+---------+----------+----------+-----------+---------+------+---+------+---------+-------------+---------+--------------+---------------+------+\n",
      "|       12|  15737173|   Andrews|        497|    Spain|  Male| 24|     3|      0.0|            2|        1|             0|       76390.01|     0|\n",
      "|       16|  15643966|   Goforth|        616|  Germany|  Male| 45|     3|143129.41|            2|        0|             1|       64327.26|     0|\n",
      "|       24|  15725737|    Mosman|        669|   France|  Male| 46|     3|      0.0|            2|        0|             1|        8487.75|     0|\n",
      "|       26|  15738191|   Maclean|        577|   France|  Male| 25|     3|      0.0|            2|        0|             1|      124508.29|     0|\n",
      "|       29|  15728693|McWilliams|        574|  Germany|Female| 43|     3|141349.43|            1|        1|             1|      100187.43|     0|\n",
      "|       31|  15589475|   Azikiwe|        591|    Spain|Female| 39|     3|      0.0|            3|        1|             0|      140469.38|     1|\n",
      "|       37|  15788448|    Watson|        490|    Spain|  Male| 31|     3|145260.23|            1|        0|             1|      114066.77|     0|\n",
      "|       83|  15641732|     Mills|        543|   France|Female| 36|     3|      0.0|            2|        0|             0|       26019.59|     0|\n",
      "|       87|  15762418|      Gant|        750|    Spain|  Male| 22|     3|121681.82|            1|        1|             0|      128643.35|     1|\n",
      "|       90|  15767954|   Osborne|        635|  Germany|Female| 28|     3| 81623.67|            2|        1|             1|      156791.36|     0|\n",
      "|      111|  15803526|  Eremenko|        685|  Germany|  Male| 30|     3| 90536.81|            1|        0|             1|       63082.88|     0|\n",
      "|      125|  15779659|  Zetticci|        625|   France|Female| 28|     3|      0.0|            1|        0|             0|      183646.41|     0|\n",
      "|      131|  15740404|        He|        758|   France|Female| 34|     3|      0.0|            2|        1|             1|      124226.16|     0|\n",
      "|      180|  15625426|   Ashbolt|        754|  Germany|Female| 55|     3|161608.81|            1|        1|             0|        8080.85|     1|\n",
      "|      192|  15771086|    Graham|        512|   France|Female| 36|     3| 84327.77|            2|        1|             0|       17675.36|     0|\n",
      "|      196|  15594815|  Aleshire|        807|   France|  Male| 35|     3|174790.15|            1|        1|             1|         600.36|     0|\n",
      "|      198|  15777892| Samsonova|        721|  Germany|  Male| 37|     3|107720.64|            1|        1|             1|      158591.12|     0|\n",
      "|      205|  15627801| Ginikanwa|        512|    Spain|  Male| 33|     3|176666.62|            1|        1|             0|       94670.77|     0|\n",
      "|      206|  15773039|        Ku|        550|   France|  Male| 37|     3|      0.0|            1|        1|             1|      179670.31|     0|\n",
      "|      207|  15755262|  McDonald|        608|    Spain|Female| 41|     3| 89763.84|            1|        0|             0|      199304.74|     1|\n",
      "+---------+----------+----------+-----------+---------+------+---+------+---------+-------------+---------+--------------+---------------+------+\n",
      "only showing top 20 rows\n",
      "\n"
     ]
    }
   ],
   "source": [
    "test.show()"
   ]
  },
  {
   "cell_type": "markdown",
   "metadata": {},
   "source": [
    "removing data with tenure less than 3 years"
   ]
  },
  {
   "cell_type": "code",
   "execution_count": 12,
   "metadata": {},
   "outputs": [],
   "source": [
    "new_churn_df = churn_df.filter(churn_df.Tenure>3)"
   ]
  },
  {
   "cell_type": "code",
   "execution_count": 13,
   "metadata": {},
   "outputs": [
    {
     "name": "stdout",
     "output_type": "stream",
     "text": [
      "+---------+----------+-------------+-----------+---------+------+---+------+---------+-------------+---------+--------------+---------------+------+\n",
      "|RowNumber|CustomerId|      Surname|CreditScore|Geography|Gender|Age|Tenure|  Balance|NumOfProducts|HasCrCard|IsActiveMember|EstimatedSalary|Exited|\n",
      "+---------+----------+-------------+-----------+---------+------+---+------+---------+-------------+---------+--------------+---------------+------+\n",
      "|        3|  15619304|         Onio|        502|   France|Female| 42|     8| 159660.8|            3|        1|             0|      113931.57|     1|\n",
      "|        6|  15574012|          Chu|        645|    Spain|  Male| 44|     8|113755.78|            2|        1|             0|      149756.71|     1|\n",
      "|        7|  15592531|     Bartlett|        822|   France|  Male| 50|     7|      0.0|            2|        1|             1|        10062.8|     0|\n",
      "|        8|  15656148|       Obinna|        376|  Germany|Female| 29|     4|115046.74|            4|        1|             0|      119346.88|     1|\n",
      "|        9|  15792365|           He|        501|   France|  Male| 44|     4|142051.07|            2|        0|             1|        74940.5|     0|\n",
      "|       11|  15767821|       Bearce|        528|   France|  Male| 31|     6|102016.72|            2|        0|             0|       80181.12|     0|\n",
      "|       13|  15632264|          Kay|        476|   France|Female| 34|    10|      0.0|            2|        1|             0|       26260.98|     0|\n",
      "|       14|  15691483|         Chin|        549|   France|Female| 25|     5|      0.0|            2|        0|             0|      190857.79|     0|\n",
      "|       15|  15600882|        Scott|        635|    Spain|Female| 35|     7|      0.0|            2|        1|             1|       65951.65|     0|\n",
      "|       18|  15788218|    Henderson|        549|    Spain|Female| 24|     9|      0.0|            2|        1|             1|       14406.41|     0|\n",
      "|       19|  15661507|      Muldrow|        587|    Spain|  Male| 45|     6|      0.0|            1|        0|             0|      158684.81|     0|\n",
      "|       20|  15568982|          Hao|        726|   France|Female| 24|     6|      0.0|            2|        1|             1|       54724.03|     0|\n",
      "|       21|  15577657|     McDonald|        732|   France|  Male| 41|     8|      0.0|            2|        1|             1|      170886.17|     0|\n",
      "|       22|  15597945|     Dellucci|        636|    Spain|Female| 32|     8|      0.0|            2|        1|             0|      138555.46|     0|\n",
      "|       23|  15699309|    Gerasimov|        510|    Spain|Female| 38|     4|      0.0|            1|        1|             0|      118913.53|     1|\n",
      "|       25|  15625047|          Yen|        846|   France|Female| 38|     5|      0.0|            1|        1|             1|      187616.16|     0|\n",
      "|       28|  15700772|      Nebechi|        571|   France|  Male| 44|     9|      0.0|            2|        0|             0|       38433.35|     0|\n",
      "|       32|  15706552|Odinakachukwu|        533|   France|  Male| 36|     7|  85311.7|            1|        0|             1|      156731.91|     0|\n",
      "|       33|  15750181|    Sanderson|        553|  Germany|  Male| 41|     9|110112.54|            2|        0|             0|       81898.81|     0|\n",
      "|       34|  15659428|      Maggard|        520|    Spain|Female| 42|     6|      0.0|            2|        1|             1|       34410.55|     0|\n",
      "+---------+----------+-------------+-----------+---------+------+---+------+---------+-------------+---------+--------------+---------------+------+\n",
      "only showing top 20 rows\n",
      "\n"
     ]
    }
   ],
   "source": [
    "new_churn_df.show()\n"
   ]
  },
  {
   "cell_type": "markdown",
   "metadata": {},
   "source": [
    "Gr"
   ]
  },
  {
   "cell_type": "code",
   "execution_count": 14,
   "metadata": {},
   "outputs": [],
   "source": [
    "Tenure_count = new_churn_df.groupBy(new_churn_df.Tenure).count()"
   ]
  },
  {
   "cell_type": "code",
   "execution_count": 15,
   "metadata": {},
   "outputs": [
    {
     "name": "stdout",
     "output_type": "stream",
     "text": [
      "+------+-----+\n",
      "|Tenure|count|\n",
      "+------+-----+\n",
      "|     6|  967|\n",
      "|     5| 1012|\n",
      "|     9|  984|\n",
      "|     4|  989|\n",
      "|     8| 1025|\n",
      "|     7| 1028|\n",
      "|    10|  490|\n",
      "+------+-----+\n",
      "\n"
     ]
    }
   ],
   "source": [
    "Tenure_count.show()"
   ]
  },
  {
   "cell_type": "markdown",
   "metadata": {},
   "source": [
    "Removing exited colum"
   ]
  },
  {
   "cell_type": "code",
   "execution_count": 16,
   "metadata": {},
   "outputs": [],
   "source": [
    "new_churn_df=new_churn_df.drop(new_churn_df.Exited)"
   ]
  },
  {
   "cell_type": "code",
   "execution_count": 17,
   "metadata": {},
   "outputs": [
    {
     "name": "stdout",
     "output_type": "stream",
     "text": [
      "+---------+----------+-------------+-----------+---------+------+---+------+---------+-------------+---------+--------------+---------------+\n",
      "|RowNumber|CustomerId|      Surname|CreditScore|Geography|Gender|Age|Tenure|  Balance|NumOfProducts|HasCrCard|IsActiveMember|EstimatedSalary|\n",
      "+---------+----------+-------------+-----------+---------+------+---+------+---------+-------------+---------+--------------+---------------+\n",
      "|        3|  15619304|         Onio|        502|   France|Female| 42|     8| 159660.8|            3|        1|             0|      113931.57|\n",
      "|        6|  15574012|          Chu|        645|    Spain|  Male| 44|     8|113755.78|            2|        1|             0|      149756.71|\n",
      "|        7|  15592531|     Bartlett|        822|   France|  Male| 50|     7|      0.0|            2|        1|             1|        10062.8|\n",
      "|        8|  15656148|       Obinna|        376|  Germany|Female| 29|     4|115046.74|            4|        1|             0|      119346.88|\n",
      "|        9|  15792365|           He|        501|   France|  Male| 44|     4|142051.07|            2|        0|             1|        74940.5|\n",
      "|       11|  15767821|       Bearce|        528|   France|  Male| 31|     6|102016.72|            2|        0|             0|       80181.12|\n",
      "|       13|  15632264|          Kay|        476|   France|Female| 34|    10|      0.0|            2|        1|             0|       26260.98|\n",
      "|       14|  15691483|         Chin|        549|   France|Female| 25|     5|      0.0|            2|        0|             0|      190857.79|\n",
      "|       15|  15600882|        Scott|        635|    Spain|Female| 35|     7|      0.0|            2|        1|             1|       65951.65|\n",
      "|       18|  15788218|    Henderson|        549|    Spain|Female| 24|     9|      0.0|            2|        1|             1|       14406.41|\n",
      "|       19|  15661507|      Muldrow|        587|    Spain|  Male| 45|     6|      0.0|            1|        0|             0|      158684.81|\n",
      "|       20|  15568982|          Hao|        726|   France|Female| 24|     6|      0.0|            2|        1|             1|       54724.03|\n",
      "|       21|  15577657|     McDonald|        732|   France|  Male| 41|     8|      0.0|            2|        1|             1|      170886.17|\n",
      "|       22|  15597945|     Dellucci|        636|    Spain|Female| 32|     8|      0.0|            2|        1|             0|      138555.46|\n",
      "|       23|  15699309|    Gerasimov|        510|    Spain|Female| 38|     4|      0.0|            1|        1|             0|      118913.53|\n",
      "|       25|  15625047|          Yen|        846|   France|Female| 38|     5|      0.0|            1|        1|             1|      187616.16|\n",
      "|       28|  15700772|      Nebechi|        571|   France|  Male| 44|     9|      0.0|            2|        0|             0|       38433.35|\n",
      "|       32|  15706552|Odinakachukwu|        533|   France|  Male| 36|     7|  85311.7|            1|        0|             1|      156731.91|\n",
      "|       33|  15750181|    Sanderson|        553|  Germany|  Male| 41|     9|110112.54|            2|        0|             0|       81898.81|\n",
      "|       34|  15659428|      Maggard|        520|    Spain|Female| 42|     6|      0.0|            2|        1|             1|       34410.55|\n",
      "+---------+----------+-------------+-----------+---------+------+---+------+---------+-------------+---------+--------------+---------------+\n",
      "only showing top 20 rows\n",
      "\n"
     ]
    }
   ],
   "source": [
    "new_churn_df.show()"
   ]
  },
  {
   "cell_type": "markdown",
   "metadata": {},
   "source": [
    "Adding bonus column"
   ]
  },
  {
   "cell_type": "code",
   "execution_count": 18,
   "metadata": {},
   "outputs": [],
   "source": [
    "new_churn_df = new_churn_df.withColumn(\"Bonus\", new_churn_df.EstimatedSalary*0.2)"
   ]
  },
  {
   "cell_type": "code",
   "execution_count": 19,
   "metadata": {},
   "outputs": [
    {
     "name": "stdout",
     "output_type": "stream",
     "text": [
      "+---------+----------+-------------+-----------+---------+------+---+------+---------+-------------+---------+--------------+---------------+------------------+\n",
      "|RowNumber|CustomerId|      Surname|CreditScore|Geography|Gender|Age|Tenure|  Balance|NumOfProducts|HasCrCard|IsActiveMember|EstimatedSalary|             Bonus|\n",
      "+---------+----------+-------------+-----------+---------+------+---+------+---------+-------------+---------+--------------+---------------+------------------+\n",
      "|        3|  15619304|         Onio|        502|   France|Female| 42|     8| 159660.8|            3|        1|             0|      113931.57|22786.314000000002|\n",
      "|        6|  15574012|          Chu|        645|    Spain|  Male| 44|     8|113755.78|            2|        1|             0|      149756.71|         29951.342|\n",
      "|        7|  15592531|     Bartlett|        822|   France|  Male| 50|     7|      0.0|            2|        1|             1|        10062.8|           2012.56|\n",
      "|        8|  15656148|       Obinna|        376|  Germany|Female| 29|     4|115046.74|            4|        1|             0|      119346.88|23869.376000000004|\n",
      "|        9|  15792365|           He|        501|   France|  Male| 44|     4|142051.07|            2|        0|             1|        74940.5|           14988.1|\n",
      "|       11|  15767821|       Bearce|        528|   France|  Male| 31|     6|102016.72|            2|        0|             0|       80181.12|         16036.224|\n",
      "|       13|  15632264|          Kay|        476|   France|Female| 34|    10|      0.0|            2|        1|             0|       26260.98|          5252.196|\n",
      "|       14|  15691483|         Chin|        549|   France|Female| 25|     5|      0.0|            2|        0|             0|      190857.79|38171.558000000005|\n",
      "|       15|  15600882|        Scott|        635|    Spain|Female| 35|     7|      0.0|            2|        1|             1|       65951.65|          13190.33|\n",
      "|       18|  15788218|    Henderson|        549|    Spain|Female| 24|     9|      0.0|            2|        1|             1|       14406.41|          2881.282|\n",
      "|       19|  15661507|      Muldrow|        587|    Spain|  Male| 45|     6|      0.0|            1|        0|             0|      158684.81|         31736.962|\n",
      "|       20|  15568982|          Hao|        726|   France|Female| 24|     6|      0.0|            2|        1|             1|       54724.03|         10944.806|\n",
      "|       21|  15577657|     McDonald|        732|   France|  Male| 41|     8|      0.0|            2|        1|             1|      170886.17|34177.234000000004|\n",
      "|       22|  15597945|     Dellucci|        636|    Spain|Female| 32|     8|      0.0|            2|        1|             0|      138555.46|         27711.092|\n",
      "|       23|  15699309|    Gerasimov|        510|    Spain|Female| 38|     4|      0.0|            1|        1|             0|      118913.53|23782.706000000002|\n",
      "|       25|  15625047|          Yen|        846|   France|Female| 38|     5|      0.0|            1|        1|             1|      187616.16|         37523.232|\n",
      "|       28|  15700772|      Nebechi|        571|   France|  Male| 44|     9|      0.0|            2|        0|             0|       38433.35|           7686.67|\n",
      "|       32|  15706552|Odinakachukwu|        533|   France|  Male| 36|     7|  85311.7|            1|        0|             1|      156731.91|         31346.382|\n",
      "|       33|  15750181|    Sanderson|        553|  Germany|  Male| 41|     9|110112.54|            2|        0|             0|       81898.81|         16379.762|\n",
      "|       34|  15659428|      Maggard|        520|    Spain|Female| 42|     6|      0.0|            2|        1|             1|       34410.55| 6882.110000000001|\n",
      "+---------+----------+-------------+-----------+---------+------+---+------+---------+-------------+---------+--------------+---------------+------------------+\n",
      "only showing top 20 rows\n",
      "\n"
     ]
    }
   ],
   "source": [
    "new_churn_df.show()"
   ]
  },
  {
   "cell_type": "code",
   "execution_count": 20,
   "metadata": {},
   "outputs": [],
   "source": [
    "new_churn_df = new_churn_df.withColumn(\"TotalSalary\", new_churn_df.EstimatedSalary + new_churn_df.Bonus)"
   ]
  },
  {
   "cell_type": "code",
   "execution_count": 21,
   "metadata": {},
   "outputs": [
    {
     "name": "stdout",
     "output_type": "stream",
     "text": [
      "+---------+----------+-------------+-----------+---------+------+---+------+---------+-------------+---------+--------------+---------------+------------------+------------------+\n",
      "|RowNumber|CustomerId|      Surname|CreditScore|Geography|Gender|Age|Tenure|  Balance|NumOfProducts|HasCrCard|IsActiveMember|EstimatedSalary|             Bonus|       TotalSalary|\n",
      "+---------+----------+-------------+-----------+---------+------+---+------+---------+-------------+---------+--------------+---------------+------------------+------------------+\n",
      "|        3|  15619304|         Onio|        502|   France|Female| 42|     8| 159660.8|            3|        1|             0|      113931.57|22786.314000000002|136717.88400000002|\n",
      "|        6|  15574012|          Chu|        645|    Spain|  Male| 44|     8|113755.78|            2|        1|             0|      149756.71|         29951.342|        179708.052|\n",
      "|        7|  15592531|     Bartlett|        822|   France|  Male| 50|     7|      0.0|            2|        1|             1|        10062.8|           2012.56|12075.359999999999|\n",
      "|        8|  15656148|       Obinna|        376|  Germany|Female| 29|     4|115046.74|            4|        1|             0|      119346.88|23869.376000000004|        143216.256|\n",
      "|        9|  15792365|           He|        501|   France|  Male| 44|     4|142051.07|            2|        0|             1|        74940.5|           14988.1|           89928.6|\n",
      "|       11|  15767821|       Bearce|        528|   France|  Male| 31|     6|102016.72|            2|        0|             0|       80181.12|         16036.224|         96217.344|\n",
      "|       13|  15632264|          Kay|        476|   France|Female| 34|    10|      0.0|            2|        1|             0|       26260.98|          5252.196|         31513.176|\n",
      "|       14|  15691483|         Chin|        549|   France|Female| 25|     5|      0.0|            2|        0|             0|      190857.79|38171.558000000005|        229029.348|\n",
      "|       15|  15600882|        Scott|        635|    Spain|Female| 35|     7|      0.0|            2|        1|             1|       65951.65|          13190.33|          79141.98|\n",
      "|       18|  15788218|    Henderson|        549|    Spain|Female| 24|     9|      0.0|            2|        1|             1|       14406.41|          2881.282|         17287.692|\n",
      "|       19|  15661507|      Muldrow|        587|    Spain|  Male| 45|     6|      0.0|            1|        0|             0|      158684.81|         31736.962|        190421.772|\n",
      "|       20|  15568982|          Hao|        726|   France|Female| 24|     6|      0.0|            2|        1|             1|       54724.03|         10944.806|         65668.836|\n",
      "|       21|  15577657|     McDonald|        732|   France|  Male| 41|     8|      0.0|            2|        1|             1|      170886.17|34177.234000000004|        205063.404|\n",
      "|       22|  15597945|     Dellucci|        636|    Spain|Female| 32|     8|      0.0|            2|        1|             0|      138555.46|         27711.092|        166266.552|\n",
      "|       23|  15699309|    Gerasimov|        510|    Spain|Female| 38|     4|      0.0|            1|        1|             0|      118913.53|23782.706000000002|        142696.236|\n",
      "|       25|  15625047|          Yen|        846|   France|Female| 38|     5|      0.0|            1|        1|             1|      187616.16|         37523.232|        225139.392|\n",
      "|       28|  15700772|      Nebechi|        571|   France|  Male| 44|     9|      0.0|            2|        0|             0|       38433.35|           7686.67|          46120.02|\n",
      "|       32|  15706552|Odinakachukwu|        533|   France|  Male| 36|     7|  85311.7|            1|        0|             1|      156731.91|         31346.382|188078.29200000002|\n",
      "|       33|  15750181|    Sanderson|        553|  Germany|  Male| 41|     9|110112.54|            2|        0|             0|       81898.81|         16379.762|         98278.572|\n",
      "|       34|  15659428|      Maggard|        520|    Spain|Female| 42|     6|      0.0|            2|        1|             1|       34410.55| 6882.110000000001|          41292.66|\n",
      "+---------+----------+-------------+-----------+---------+------+---+------+---------+-------------+---------+--------------+---------------+------------------+------------------+\n",
      "only showing top 20 rows\n",
      "\n"
     ]
    }
   ],
   "source": [
    "new_churn_df.show()"
   ]
  },
  {
   "cell_type": "code",
   "execution_count": 22,
   "metadata": {},
   "outputs": [],
   "source": [
    "new_churn_df.write.mode(\"overwrite\").parquet(\"new_churn.parquet\")"
   ]
  },
  {
   "cell_type": "markdown",
   "metadata": {},
   "source": [
    "TASK-2"
   ]
  },
  {
   "cell_type": "code",
   "execution_count": 23,
   "metadata": {},
   "outputs": [],
   "source": [
    "# try:\n",
    "#     spark.stop()\n",
    "# except:\n",
    "#     pass\n",
    "spark_2 = SparkSession.builder.appName('emp_dept_dataset').getOrCreate()"
   ]
  },
  {
   "cell_type": "code",
   "execution_count": 24,
   "metadata": {},
   "outputs": [],
   "source": [
    "from pyspark.sql.types import StructType, StructField, IntegerType, FloatType, StringType"
   ]
  },
  {
   "cell_type": "code",
   "execution_count": 25,
   "metadata": {},
   "outputs": [],
   "source": [
    "# 🔹 Employee Data (20 records)\n",
    "employee_data = [\n",
    "    (1, \"Alice\", 25, 101, 60000.0),\n",
    "    (2, \"Bob\", 30, 102, 75000.0),\n",
    "    (3, \"Charlie\", 28, 103, 50000.0),\n",
    "    (4, \"David\", 40, 104, 90000.0),\n",
    "    (5, \"Eve\", 35, 101, 65000.0),\n",
    "    (6, \"Frank\", 26, 102, 72000.0),\n",
    "    (7, \"Grace\", 32, 103, 55000.0),\n",
    "    (8, \"Hank\", 45, 104, 100000.0),\n",
    "    (9, \"Ivy\", 29, 101, 58000.0),\n",
    "    (10, \"Jack\", 31, 102, 78000.0),\n",
    "    (11, \"Kevin\", 27, 103, 51000.0),\n",
    "    (12, \"Laura\", 38, 104, 95000.0),\n",
    "    (13, \"Mike\", 33, 101, 62000.0),\n",
    "    (14, \"Nina\", 41, 102, 80000.0),\n",
    "    (15, \"Oscar\", 30, 103, 53000.0),\n",
    "    (16, \"Paul\", 37, 104, 92000.0),\n",
    "    (17, \"Quinn\", 34, 101, 64000.0),\n",
    "    (18, \"Rachel\", 28, 102, 76000.0),\n",
    "    (19, \"Steve\", 39, 103, 54000.0),\n",
    "    (20, \"Tina\", 42, 104, 98000.0)\n",
    "]\n",
    "\n",
    "# 🔹 Department Data (4 records)\n",
    "department_data = [\n",
    "    (101, \"HR\"),\n",
    "    (102, \"IT\"),\n",
    "    (103, \"Finance\"),\n",
    "    (104, \"Operations\")\n",
    "]\n",
    "\n",
    "# Define Schema for Employee DataFrame\n",
    "employee_schema = StructType([\n",
    "    StructField(\"EmpID\", IntegerType(), False),\n",
    "    StructField(\"EmpName\", StringType(), False),\n",
    "    StructField(\"Age\", IntegerType(), False),\n",
    "    StructField(\"DeptID\", IntegerType(), False),\n",
    "    StructField(\"Salary\", FloatType(), False)\n",
    "])\n",
    "\n",
    "# Define Schema for Department DataFrame\n",
    "department_schema = StructType([\n",
    "    StructField(\"DeptID\", IntegerType(), False),\n",
    "    StructField(\"DeptName\", StringType(), False)\n",
    "])"
   ]
  },
  {
   "cell_type": "code",
   "execution_count": 26,
   "metadata": {},
   "outputs": [],
   "source": [
    "emp_df = spark.createDataFrame(employee_data, schema=employee_schema)\n",
    "dept_df = spark.createDataFrame(department_data, schema=department_schema)"
   ]
  },
  {
   "cell_type": "code",
   "execution_count": 27,
   "metadata": {},
   "outputs": [
    {
     "name": "stdout",
     "output_type": "stream",
     "text": [
      "+-----+-------+---+------+--------+\n",
      "|EmpID|EmpName|Age|DeptID|  Salary|\n",
      "+-----+-------+---+------+--------+\n",
      "|    1|  Alice| 25|   101| 60000.0|\n",
      "|    2|    Bob| 30|   102| 75000.0|\n",
      "|    3|Charlie| 28|   103| 50000.0|\n",
      "|    4|  David| 40|   104| 90000.0|\n",
      "|    5|    Eve| 35|   101| 65000.0|\n",
      "|    6|  Frank| 26|   102| 72000.0|\n",
      "|    7|  Grace| 32|   103| 55000.0|\n",
      "|    8|   Hank| 45|   104|100000.0|\n",
      "|    9|    Ivy| 29|   101| 58000.0|\n",
      "|   10|   Jack| 31|   102| 78000.0|\n",
      "|   11|  Kevin| 27|   103| 51000.0|\n",
      "|   12|  Laura| 38|   104| 95000.0|\n",
      "|   13|   Mike| 33|   101| 62000.0|\n",
      "|   14|   Nina| 41|   102| 80000.0|\n",
      "|   15|  Oscar| 30|   103| 53000.0|\n",
      "|   16|   Paul| 37|   104| 92000.0|\n",
      "|   17|  Quinn| 34|   101| 64000.0|\n",
      "|   18| Rachel| 28|   102| 76000.0|\n",
      "|   19|  Steve| 39|   103| 54000.0|\n",
      "|   20|   Tina| 42|   104| 98000.0|\n",
      "+-----+-------+---+------+--------+\n",
      "\n"
     ]
    }
   ],
   "source": [
    "emp_df.show()"
   ]
  },
  {
   "cell_type": "code",
   "execution_count": 28,
   "metadata": {},
   "outputs": [
    {
     "name": "stdout",
     "output_type": "stream",
     "text": [
      "+------+----------+\n",
      "|DeptID|  DeptName|\n",
      "+------+----------+\n",
      "|   101|        HR|\n",
      "|   102|        IT|\n",
      "|   103|   Finance|\n",
      "|   104|Operations|\n",
      "+------+----------+\n",
      "\n"
     ]
    }
   ],
   "source": [
    "dept_df.show()"
   ]
  },
  {
   "cell_type": "code",
   "execution_count": 54,
   "metadata": {},
   "outputs": [
    {
     "data": {
      "text/plain": [
       "20"
      ]
     },
     "execution_count": 54,
     "metadata": {},
     "output_type": "execute_result"
    }
   ],
   "source": [
    "emp_df.count()"
   ]
  },
  {
   "cell_type": "markdown",
   "metadata": {},
   "source": [
    "Inner join"
   ]
  },
  {
   "cell_type": "code",
   "execution_count": 35,
   "metadata": {},
   "outputs": [],
   "source": [
    "joined_df_inner = emp_df.join(dept_df,\"DeptID\", 'inner')\n"
   ]
  },
  {
   "cell_type": "code",
   "execution_count": 36,
   "metadata": {},
   "outputs": [
    {
     "name": "stdout",
     "output_type": "stream",
     "text": [
      "+------+-----+-------+---+--------+----------+\n",
      "|DeptID|EmpID|EmpName|Age|  Salary|  DeptName|\n",
      "+------+-----+-------+---+--------+----------+\n",
      "|   101|    1|  Alice| 25| 60000.0|        HR|\n",
      "|   101|    5|    Eve| 35| 65000.0|        HR|\n",
      "|   101|    9|    Ivy| 29| 58000.0|        HR|\n",
      "|   101|   13|   Mike| 33| 62000.0|        HR|\n",
      "|   101|   17|  Quinn| 34| 64000.0|        HR|\n",
      "|   102|    2|    Bob| 30| 75000.0|        IT|\n",
      "|   102|    6|  Frank| 26| 72000.0|        IT|\n",
      "|   102|   10|   Jack| 31| 78000.0|        IT|\n",
      "|   102|   14|   Nina| 41| 80000.0|        IT|\n",
      "|   102|   18| Rachel| 28| 76000.0|        IT|\n",
      "|   103|    3|Charlie| 28| 50000.0|   Finance|\n",
      "|   103|    7|  Grace| 32| 55000.0|   Finance|\n",
      "|   103|   11|  Kevin| 27| 51000.0|   Finance|\n",
      "|   103|   15|  Oscar| 30| 53000.0|   Finance|\n",
      "|   103|   19|  Steve| 39| 54000.0|   Finance|\n",
      "|   104|    4|  David| 40| 90000.0|Operations|\n",
      "|   104|    8|   Hank| 45|100000.0|Operations|\n",
      "|   104|   12|  Laura| 38| 95000.0|Operations|\n",
      "|   104|   16|   Paul| 37| 92000.0|Operations|\n",
      "|   104|   20|   Tina| 42| 98000.0|Operations|\n",
      "+------+-----+-------+---+--------+----------+\n",
      "\n"
     ]
    }
   ],
   "source": [
    "joined_df_inner.show()"
   ]
  },
  {
   "cell_type": "code",
   "execution_count": 39,
   "metadata": {},
   "outputs": [
    {
     "name": "stdout",
     "output_type": "stream",
     "text": [
      "== Physical Plan ==\n",
      "AdaptiveSparkPlan isFinalPlan=false\n",
      "+- Project [DeptID#574, EmpID#571, EmpName#572, Age#573, Salary#575, DeptName#582]\n",
      "   +- SortMergeJoin [DeptID#574], [DeptID#581], Inner\n",
      "      :- Sort [DeptID#574 ASC NULLS FIRST], false, 0\n",
      "      :  +- Exchange hashpartitioning(DeptID#574, 200), ENSURE_REQUIREMENTS, [plan_id=663]\n",
      "      :     +- Scan ExistingRDD[EmpID#571,EmpName#572,Age#573,DeptID#574,Salary#575]\n",
      "      +- Sort [DeptID#581 ASC NULLS FIRST], false, 0\n",
      "         +- Exchange hashpartitioning(DeptID#581, 200), ENSURE_REQUIREMENTS, [plan_id=664]\n",
      "            +- Scan ExistingRDD[DeptID#581,DeptName#582]\n",
      "\n",
      "\n"
     ]
    }
   ],
   "source": [
    "joined_df_inner.explain()"
   ]
  },
  {
   "cell_type": "code",
   "execution_count": 40,
   "metadata": {},
   "outputs": [
    {
     "name": "stdout",
     "output_type": "stream",
     "text": [
      "Inner JOIN written to json_joins_data/inner_join_json\n"
     ]
    }
   ],
   "source": [
    "output_path = \"json_joins_data/inner_join_json\"\n",
    "inner_json=joined_df_inner.write.mode(\"overwrite\").json(output_path)\n",
    "print(f\"Inner JOIN written to {output_path}\")"
   ]
  },
  {
   "cell_type": "markdown",
   "metadata": {},
   "source": [
    "outer join"
   ]
  },
  {
   "cell_type": "code",
   "execution_count": 37,
   "metadata": {},
   "outputs": [
    {
     "name": "stdout",
     "output_type": "stream",
     "text": [
      "+------+-----+-------+---+--------+----------+\n",
      "|DeptID|EmpID|EmpName|Age|  Salary|  DeptName|\n",
      "+------+-----+-------+---+--------+----------+\n",
      "|   101|    1|  Alice| 25| 60000.0|        HR|\n",
      "|   101|    5|    Eve| 35| 65000.0|        HR|\n",
      "|   101|    9|    Ivy| 29| 58000.0|        HR|\n",
      "|   101|   13|   Mike| 33| 62000.0|        HR|\n",
      "|   101|   17|  Quinn| 34| 64000.0|        HR|\n",
      "|   102|    2|    Bob| 30| 75000.0|        IT|\n",
      "|   102|    6|  Frank| 26| 72000.0|        IT|\n",
      "|   102|   10|   Jack| 31| 78000.0|        IT|\n",
      "|   102|   14|   Nina| 41| 80000.0|        IT|\n",
      "|   102|   18| Rachel| 28| 76000.0|        IT|\n",
      "|   103|    3|Charlie| 28| 50000.0|   Finance|\n",
      "|   103|    7|  Grace| 32| 55000.0|   Finance|\n",
      "|   103|   11|  Kevin| 27| 51000.0|   Finance|\n",
      "|   103|   15|  Oscar| 30| 53000.0|   Finance|\n",
      "|   103|   19|  Steve| 39| 54000.0|   Finance|\n",
      "|   104|    4|  David| 40| 90000.0|Operations|\n",
      "|   104|    8|   Hank| 45|100000.0|Operations|\n",
      "|   104|   12|  Laura| 38| 95000.0|Operations|\n",
      "|   104|   16|   Paul| 37| 92000.0|Operations|\n",
      "|   104|   20|   Tina| 42| 98000.0|Operations|\n",
      "+------+-----+-------+---+--------+----------+\n",
      "\n"
     ]
    }
   ],
   "source": [
    "joined_df_outer = emp_df.join(dept_df,'DeptID','outer')\n",
    "joined_df_outer.show()"
   ]
  },
  {
   "cell_type": "code",
   "execution_count": 42,
   "metadata": {},
   "outputs": [
    {
     "name": "stdout",
     "output_type": "stream",
     "text": [
      "== Physical Plan ==\n",
      "AdaptiveSparkPlan isFinalPlan=false\n",
      "+- Project [coalesce(DeptID#574, DeptID#581) AS DeptID#677, EmpID#571, EmpName#572, Age#573, Salary#575, DeptName#582]\n",
      "   +- SortMergeJoin [DeptID#574], [DeptID#581], FullOuter\n",
      "      :- Sort [DeptID#574 ASC NULLS FIRST], false, 0\n",
      "      :  +- Exchange hashpartitioning(DeptID#574, 200), ENSURE_REQUIREMENTS, [plan_id=932]\n",
      "      :     +- Scan ExistingRDD[EmpID#571,EmpName#572,Age#573,DeptID#574,Salary#575]\n",
      "      +- Sort [DeptID#581 ASC NULLS FIRST], false, 0\n",
      "         +- Exchange hashpartitioning(DeptID#581, 200), ENSURE_REQUIREMENTS, [plan_id=933]\n",
      "            +- Scan ExistingRDD[DeptID#581,DeptName#582]\n",
      "\n",
      "\n"
     ]
    }
   ],
   "source": [
    "joined_df_outer.explain()"
   ]
  },
  {
   "cell_type": "code",
   "execution_count": 43,
   "metadata": {},
   "outputs": [
    {
     "name": "stdout",
     "output_type": "stream",
     "text": [
      "outer JOIN written to json_joins_data/outer_join_json\n"
     ]
    }
   ],
   "source": [
    "output_path = \"json_joins_data/outer_join_json\"\n",
    "outer_json=joined_df_outer.write.mode(\"overwrite\").json(output_path)\n",
    "print(f\"outer JOIN written to {output_path}\")"
   ]
  },
  {
   "cell_type": "markdown",
   "metadata": {},
   "source": [
    "Left join"
   ]
  },
  {
   "cell_type": "code",
   "execution_count": 38,
   "metadata": {},
   "outputs": [
    {
     "name": "stdout",
     "output_type": "stream",
     "text": [
      "+------+-----+-------+---+--------+----------+\n",
      "|DeptID|EmpID|EmpName|Age|  Salary|  DeptName|\n",
      "+------+-----+-------+---+--------+----------+\n",
      "|   101|    1|  Alice| 25| 60000.0|        HR|\n",
      "|   102|    2|    Bob| 30| 75000.0|        IT|\n",
      "|   103|    3|Charlie| 28| 50000.0|   Finance|\n",
      "|   104|    4|  David| 40| 90000.0|Operations|\n",
      "|   101|    5|    Eve| 35| 65000.0|        HR|\n",
      "|   102|    6|  Frank| 26| 72000.0|        IT|\n",
      "|   101|    9|    Ivy| 29| 58000.0|        HR|\n",
      "|   103|    7|  Grace| 32| 55000.0|   Finance|\n",
      "|   102|   10|   Jack| 31| 78000.0|        IT|\n",
      "|   104|    8|   Hank| 45|100000.0|Operations|\n",
      "|   103|   11|  Kevin| 27| 51000.0|   Finance|\n",
      "|   104|   12|  Laura| 38| 95000.0|Operations|\n",
      "|   101|   13|   Mike| 33| 62000.0|        HR|\n",
      "|   102|   14|   Nina| 41| 80000.0|        IT|\n",
      "|   103|   15|  Oscar| 30| 53000.0|   Finance|\n",
      "|   104|   16|   Paul| 37| 92000.0|Operations|\n",
      "|   101|   17|  Quinn| 34| 64000.0|        HR|\n",
      "|   103|   19|  Steve| 39| 54000.0|   Finance|\n",
      "|   102|   18| Rachel| 28| 76000.0|        IT|\n",
      "|   104|   20|   Tina| 42| 98000.0|Operations|\n",
      "+------+-----+-------+---+--------+----------+\n",
      "\n"
     ]
    }
   ],
   "source": [
    "joined_df_left=emp_df.join(dept_df,'DeptID', 'left')\n",
    "joined_df_left.show()"
   ]
  },
  {
   "cell_type": "code",
   "execution_count": 44,
   "metadata": {},
   "outputs": [
    {
     "name": "stdout",
     "output_type": "stream",
     "text": [
      "== Physical Plan ==\n",
      "AdaptiveSparkPlan isFinalPlan=false\n",
      "+- Project [DeptID#574, EmpID#571, EmpName#572, Age#573, Salary#575, DeptName#582]\n",
      "   +- SortMergeJoin [DeptID#574], [DeptID#581], LeftOuter\n",
      "      :- Sort [DeptID#574 ASC NULLS FIRST], false, 0\n",
      "      :  +- Exchange hashpartitioning(DeptID#574, 200), ENSURE_REQUIREMENTS, [plan_id=1078]\n",
      "      :     +- Scan ExistingRDD[EmpID#571,EmpName#572,Age#573,DeptID#574,Salary#575]\n",
      "      +- Sort [DeptID#581 ASC NULLS FIRST], false, 0\n",
      "         +- Exchange hashpartitioning(DeptID#581, 200), ENSURE_REQUIREMENTS, [plan_id=1079]\n",
      "            +- Scan ExistingRDD[DeptID#581,DeptName#582]\n",
      "\n",
      "\n"
     ]
    }
   ],
   "source": [
    "joined_df_left.explain()"
   ]
  },
  {
   "cell_type": "code",
   "execution_count": 45,
   "metadata": {},
   "outputs": [
    {
     "name": "stdout",
     "output_type": "stream",
     "text": [
      "Left JOIN written to json_joins_data/left_join_json\n"
     ]
    }
   ],
   "source": [
    "output_path = \"json_joins_data/left_join_json\"\n",
    "left_json=joined_df_left.write.mode(\"overwrite\").json(output_path)\n",
    "print(f\"Left JOIN written to {output_path}\")"
   ]
  },
  {
   "cell_type": "code",
   "execution_count": 51,
   "metadata": {},
   "outputs": [
    {
     "name": "stdout",
     "output_type": "stream",
     "text": [
      "None\n"
     ]
    }
   ],
   "source": [
    "print(left_json)"
   ]
  },
  {
   "cell_type": "markdown",
   "metadata": {},
   "source": [
    "Cross Join"
   ]
  },
  {
   "cell_type": "code",
   "execution_count": 46,
   "metadata": {},
   "outputs": [
    {
     "name": "stdout",
     "output_type": "stream",
     "text": [
      "+------+-----+-------+---+--------+----------+\n",
      "|DeptID|EmpID|EmpName|Age|  Salary|  DeptName|\n",
      "+------+-----+-------+---+--------+----------+\n",
      "|   101|    1|  Alice| 25| 60000.0|        HR|\n",
      "|   101|    5|    Eve| 35| 65000.0|        HR|\n",
      "|   101|    9|    Ivy| 29| 58000.0|        HR|\n",
      "|   101|   13|   Mike| 33| 62000.0|        HR|\n",
      "|   101|   17|  Quinn| 34| 64000.0|        HR|\n",
      "|   102|    2|    Bob| 30| 75000.0|        IT|\n",
      "|   102|    6|  Frank| 26| 72000.0|        IT|\n",
      "|   102|   10|   Jack| 31| 78000.0|        IT|\n",
      "|   102|   14|   Nina| 41| 80000.0|        IT|\n",
      "|   102|   18| Rachel| 28| 76000.0|        IT|\n",
      "|   103|    3|Charlie| 28| 50000.0|   Finance|\n",
      "|   103|    7|  Grace| 32| 55000.0|   Finance|\n",
      "|   103|   11|  Kevin| 27| 51000.0|   Finance|\n",
      "|   103|   15|  Oscar| 30| 53000.0|   Finance|\n",
      "|   103|   19|  Steve| 39| 54000.0|   Finance|\n",
      "|   104|    4|  David| 40| 90000.0|Operations|\n",
      "|   104|    8|   Hank| 45|100000.0|Operations|\n",
      "|   104|   12|  Laura| 38| 95000.0|Operations|\n",
      "|   104|   16|   Paul| 37| 92000.0|Operations|\n",
      "|   104|   20|   Tina| 42| 98000.0|Operations|\n",
      "+------+-----+-------+---+--------+----------+\n",
      "\n"
     ]
    }
   ],
   "source": [
    "joined_df_cross = emp_df.join(dept_df,'DeptID','cross')\n",
    "joined_df_cross.show()"
   ]
  },
  {
   "cell_type": "code",
   "execution_count": null,
   "metadata": {},
   "outputs": [
    {
     "name": "stdout",
     "output_type": "stream",
     "text": [
      "== Physical Plan ==\n",
      "AdaptiveSparkPlan isFinalPlan=false\n",
      "+- Project [DeptID#574, EmpID#571, EmpName#572, Age#573, Salary#575, DeptName#582]\n",
      "   +- SortMergeJoin [DeptID#574], [DeptID#581], Cross\n",
      "      :- Sort [DeptID#574 ASC NULLS FIRST], false, 0\n",
      "      :  +- Exchange hashpartitioning(DeptID#574, 200), ENSURE_REQUIREMENTS, [plan_id=1347]\n",
      "      :     +- Scan ExistingRDD[EmpID#571,EmpName#572,Age#573,DeptID#574,Salary#575]\n",
      "      +- Sort [DeptID#581 ASC NULLS FIRST], false, 0\n",
      "         +- Exchange hashpartitioning(DeptID#581, 200), ENSURE_REQUIREMENTS, [plan_id=1348]\n",
      "            +- Scan ExistingRDD[DeptID#581,DeptName#582]\n",
      "\n",
      "\n"
     ]
    }
   ],
   "source": [
    "joined_df_cross.explain()"
   ]
  },
  {
   "cell_type": "code",
   "execution_count": 48,
   "metadata": {},
   "outputs": [
    {
     "name": "stdout",
     "output_type": "stream",
     "text": [
      "cross join written to json_joins_data\\cross_join_json\n"
     ]
    }
   ],
   "source": [
    "output_path = \"json_joins_data\\cross_join_json\"\n",
    "cross_json=joined_df_cross.write.mode('overwrite').json(output_path)\n",
    "print(f\"cross join written to {output_path}\")"
   ]
  },
  {
   "cell_type": "markdown",
   "metadata": {},
   "source": [
    "Broadcast Join"
   ]
  },
  {
   "cell_type": "code",
   "execution_count": null,
   "metadata": {},
   "outputs": [],
   "source": []
  }
 ],
 "metadata": {
  "kernelspec": {
   "display_name": "sparkenv",
   "language": "python",
   "name": "python3"
  },
  "language_info": {
   "codemirror_mode": {
    "name": "ipython",
    "version": 3
   },
   "file_extension": ".py",
   "mimetype": "text/x-python",
   "name": "python",
   "nbconvert_exporter": "python",
   "pygments_lexer": "ipython3",
   "version": "3.10.0"
  }
 },
 "nbformat": 4,
 "nbformat_minor": 2
}
