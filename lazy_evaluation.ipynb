{
 "cells": [
  {
   "cell_type": "markdown",
   "metadata": {},
   "source": [
    "##LAZY EVALUATION##\n",
    "\n",
    "-> Transformation: 1) narrow\n",
    "                   2) Wide \n",
    "\n",
    "\n",
    "\n",
    "-> join\n",
    "\n",
    "\n",
    "-> Groupby\n",
    "\n",
    "\n",
    "-> filer \n"
   ]
  },
  {
   "cell_type": "markdown",
   "metadata": {},
   "source": [
    "What is lazy evaluation ?\n",
    "-> it a method in which spark delay the computational execution process until the last moment\n",
    "\n",
    "->It will create a transformation plan before execution \n",
    "\n",
    "-> Spark compiles transformation plain into streamlined physical plan before execution ensuring wide cluster-wide processing.\n",
    "\n",
    "-> Spark optimize the entire data flow from start to end, proving comprehensive job execution"
   ]
  },
  {
   "cell_type": "markdown",
   "metadata": {},
   "source": [
    "What is Transformation in spark lazy evaluation?\n",
    "\n",
    "-> "
   ]
  },
  {
   "cell_type": "markdown",
   "metadata": {},
   "source": [
    "ADVANCED DATAFRAME OPERATION"
   ]
  },
  {
   "cell_type": "markdown",
   "metadata": {
    "vscode": {
     "languageId": "markdown"
    }
   },
   "source": [
    "## Windowing Functions in Spark\n",
    "\n",
    "Windowing functions in Spark allow you to perform operations on a set of rows that are related to the current row. These functions are useful for tasks such as calculating running totals, moving averages, and ranking.\n",
    "\n",
    "### Types of Window Functions:\n",
    "\n",
    "1. **Ranking Functions**: These functions assign a rank to each row within a partition of a dataset.\n",
    "    - `row_number()`: Assigns a unique number to each row, starting at 1.\n",
    "    - `rank()`: Assigns a rank to each row, with gaps in the ranking for ties.\n",
    "    - `dense_rank()`: Similar to `rank()`, but without gaps in the ranking.\n",
    "\n",
    "2. **Analytical Functions**: These functions perform calculations across a set of rows related to the current row.\n",
    "    - `cume_dist()`: Calculates the cumulative distribution of a value within a partition.\n",
    "    - `percent_rank()`: Calculates the relative rank of a value within a partition.\n",
    "\n",
    "3. **Aggregate Functions**: These functions perform aggregate calculations over a window of rows.\n",
    "    - `sum()`: Calculates the sum of values.\n",
    "    - `avg()`: Calculates the average of values.\n",
    "    - `min()`: Finds the minimum value.\n",
    "    - `max()`: Finds the maximum value.\n",
    "\n",
    "### Example:\n"
   ]
  },
  {
   "cell_type": "markdown",
   "metadata": {
    "vscode": {
     "languageId": "markdown"
    }
   },
   "source": [
    "## Detailed Explanation of Window Functions and Window Specifications\n",
    "\n",
    "### What are Window Functions?\n",
    "\n",
    "Window functions in Spark allow you to perform operations on a set of rows that are related to the current row. These functions are useful for tasks such as calculating running totals, moving averages, and ranking. Unlike regular aggregate functions that operate on the entire dataset, window functions operate on a subset of rows defined by a window specification.\n",
    "\n",
    "### Why are Window Functions Required?\n",
    "\n",
    "Window functions are required for several reasons:\n",
    "1. **Complex Calculations**: They allow you to perform complex calculations that involve multiple rows, such as running totals and moving averages.\n",
    "2. **Ranking and Row Numbering**: They provide a way to rank rows and assign row numbers within partitions of the dataset.\n",
    "3. **Partitioned Calculations**: They enable calculations to be performed within partitions of the data, rather than across the entire dataset.\n",
    "\n",
    "### What is a Window Specification?\n",
    "\n",
    "A window specification defines the subset of rows that a window function operates on. It consists of three main components:\n",
    "1. **Partitioning**: Defines how the data is divided into subsets (partitions). Each partition is processed independently.\n",
    "2. **Ordering**: Specifies the order in which rows within each partition are processed.\n",
    "3. **Frame**: Defines the subset of rows within the partition that the window function operates on. The frame can be defined in terms of row numbers or range of values.\n",
    "\n",
    "### Example of Window Specification:\n"
   ]
  },
  {
   "cell_type": "markdown",
   "metadata": {},
   "source": [
    "### Time data type\n",
    "\n",
    "# lit function"
   ]
  },
  {
   "cell_type": "code",
   "execution_count": null,
   "metadata": {},
   "outputs": [],
   "source": []
  }
 ],
 "metadata": {
  "kernelspec": {
   "display_name": "sparkenv",
   "language": "python",
   "name": "python3"
  },
  "language_info": {
   "codemirror_mode": {
    "name": "ipython",
    "version": 3
   },
   "file_extension": ".py",
   "mimetype": "text/x-python",
   "name": "python",
   "nbconvert_exporter": "python",
   "pygments_lexer": "ipython3",
   "version": "3.10.0"
  }
 },
 "nbformat": 4,
 "nbformat_minor": 2
}
