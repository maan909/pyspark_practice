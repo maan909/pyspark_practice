{
 "cells": [
  {
   "cell_type": "markdown",
   "metadata": {},
   "source": [
    "##LAZY EVALUATION##\n",
    "\n",
    "-> Transformation: 1) narrow\n",
    "                   2) Wide \n",
    "\n",
    "\n",
    "\n",
    "-> join\n",
    "\n",
    "\n",
    "-> Groupby\n",
    "\n",
    "\n",
    "-> filer \n"
   ]
  },
  {
   "cell_type": "markdown",
   "metadata": {},
   "source": [
    "What is lazy evaluation ?\n",
    "-> it a method in which spark delay the computational execution process until the last moment\n",
    "\n",
    "->It will create a transformation plan before execution \n",
    "\n",
    "-> Spark compiles transformation plain into streamlined physical plan before execution ensuring wide cluster-wide processing.\n",
    "\n",
    "-> Spark optimize the entire data flow from start to end, proving comprehensive job execution"
   ]
  },
  {
   "cell_type": "markdown",
   "metadata": {},
   "source": [
    "What is Transformation in spark lazy evaluation?\n",
    "\n",
    "-> "
   ]
  },
  {
   "cell_type": "code",
   "execution_count": null,
   "metadata": {},
   "outputs": [],
   "source": []
  }
 ],
 "metadata": {
  "kernelspec": {
   "display_name": "sparkenv",
   "language": "python",
   "name": "python3"
  },
  "language_info": {
   "name": "python",
   "version": "3.10.0"
  }
 },
 "nbformat": 4,
 "nbformat_minor": 2
}
