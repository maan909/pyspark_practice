{
 "cells": [
  {
   "cell_type": "markdown",
   "metadata": {},
   "source": [
    "Genrate dataframe using spark"
   ]
  },
  {
   "cell_type": "code",
   "execution_count": 1,
   "metadata": {},
   "outputs": [],
   "source": [
    "# import os\n",
    "# os.environ[\"PYSPARK_PYTHON\"] = \"python3\"\n",
    "# os.environ[\"PYSPARK_DRIVER_PYTHON\"] = \"python3\"\n"
   ]
  },
  {
   "cell_type": "code",
   "execution_count": 2,
   "metadata": {},
   "outputs": [],
   "source": [
    "import os\n",
    "os.environ[\"SPARK_HOME\"] = \"c:\\\\spark\""
   ]
  },
  {
   "cell_type": "code",
   "execution_count": 3,
   "metadata": {},
   "outputs": [
    {
     "name": "stdout",
     "output_type": "stream",
     "text": [
      "0.10.9.7\n",
      "3.5.5\n"
     ]
    }
   ],
   "source": [
    "import py4j\n",
    "import pyspark\n",
    "print(py4j.__version__)\n",
    "print(pyspark.__version__)"
   ]
  },
  {
   "cell_type": "code",
   "execution_count": 4,
   "metadata": {},
   "outputs": [
    {
     "data": {
      "text/html": [
       "\n",
       "            <div>\n",
       "                <p><b>SparkSession - in-memory</b></p>\n",
       "                \n",
       "        <div>\n",
       "            <p><b>SparkContext</b></p>\n",
       "\n",
       "            <p><a href=\"http://172.10.10.83:4040\">Spark UI</a></p>\n",
       "\n",
       "            <dl>\n",
       "              <dt>Version</dt>\n",
       "                <dd><code>v3.5.5</code></dd>\n",
       "              <dt>Master</dt>\n",
       "                <dd><code>local[*]</code></dd>\n",
       "              <dt>AppName</dt>\n",
       "                <dd><code>PySpark DataFrame Example</code></dd>\n",
       "            </dl>\n",
       "        </div>\n",
       "        \n",
       "            </div>\n",
       "        "
      ],
      "text/plain": [
       "<pyspark.sql.session.SparkSession at 0x225ee702a10>"
      ]
     },
     "execution_count": 4,
     "metadata": {},
     "output_type": "execute_result"
    }
   ],
   "source": [
    "\n",
    "\n",
    "import findspark\n",
    "findspark.init()\n",
    "from pyspark.sql import SparkSession \n",
    "\n",
    "spark = SparkSession.builder.appName(\"PySpark DataFrame Example\").getOrCreate()\n",
    "# sc = spark.sparkContext\n",
    "spark"
   ]
  },
  {
   "cell_type": "markdown",
   "metadata": {},
   "source": [
    "Create data"
   ]
  },
  {
   "cell_type": "code",
   "execution_count": 5,
   "metadata": {},
   "outputs": [],
   "source": [
    "from pyspark.sql import Row\n",
    "\n",
    "data = [\n",
    "    Row(firstname=\"Amit\", lastname=\"Sharma\", middlename=\"Kumar\", id=101, gender=\"Male\", dep_id=1),\n",
    "    Row(firstname=\"Priya\", lastname=\"Verma\", middlename=\"Rani\", id=102, gender=\"Female\", dep_id=2),\n",
    "    Row(firstname=\"Rahul\", lastname=\"Patil\", middlename=\"Raj\", id=103, gender=\"Male\", dep_id=1),\n",
    "    Row(firstname=\"Neha\", lastname=\"Desai\", middlename=\"Sunita\", id=104, gender=\"Female\", dep_id=3),\n",
    "    Row(firstname=\"Suresh\", lastname=\"Yadav\", middlename=\"Chandra\", id=105, gender=\"Male\", dep_id=2),\n",
    "    Row(firstname=\"Kavita\", lastname=\"Singh\", middlename=\"Anjali\", id=106, gender=\"Female\", dep_id=3),\n",
    "    Row(firstname=\"Vikas\", lastname=\"Rao\", middlename=\"Nitin\", id=107, gender=\"Male\", dep_id=1),\n",
    "    Row(firstname=\"Pooja\", lastname=\"Joshi\", middlename=\"Meera\", id=108, gender=\"Female\", dep_id=2),\n",
    "    Row(firstname=\"Rohit\", lastname=\"Naik\", middlename=\"Dilip\", id=109, gender=\"Male\", dep_id=3),\n",
    "    Row(firstname=\"Anita\", lastname=\"Kulkarni\", middlename=\"Leela\", id=110, gender=\"Female\", dep_id=1)\n",
    "]\n",
    " \n",
    "# columns = [\"firstname\", \"lastname\", \"middlename\", \"id\", \"gender\", \"dep_id\"]\n",
    "\n",
    " "
   ]
  },
  {
   "cell_type": "code",
   "execution_count": 6,
   "metadata": {},
   "outputs": [],
   "source": [
    "import json\n",
    "from pyspark.sql.types import StructType, StructField, StringType, IntegerType\n",
    " "
   ]
  },
  {
   "cell_type": "code",
   "execution_count": 7,
   "metadata": {},
   "outputs": [],
   "source": [
    "data_df= spark.createDataFrame(data)"
   ]
  },
  {
   "cell_type": "code",
   "execution_count": 8,
   "metadata": {},
   "outputs": [
    {
     "data": {
      "text/plain": [
       "DataFrame[firstname: string, lastname: string, middlename: string, id: bigint, gender: string, dep_id: bigint]"
      ]
     },
     "execution_count": 8,
     "metadata": {},
     "output_type": "execute_result"
    }
   ],
   "source": [
    "data_df"
   ]
  },
  {
   "cell_type": "code",
   "execution_count": 9,
   "metadata": {},
   "outputs": [
    {
     "name": "stdout",
     "output_type": "stream",
     "text": [
      "root\n",
      " |-- firstname: string (nullable = true)\n",
      " |-- lastname: string (nullable = true)\n",
      " |-- middlename: string (nullable = true)\n",
      " |-- id: long (nullable = true)\n",
      " |-- gender: string (nullable = true)\n",
      " |-- dep_id: long (nullable = true)\n",
      "\n"
     ]
    }
   ],
   "source": [
    "data_df.printSchema()"
   ]
  },
  {
   "cell_type": "code",
   "execution_count": 10,
   "metadata": {},
   "outputs": [
    {
     "data": {
      "text/plain": [
       "DataFrame[firstname: string, lastname: string, middlename: string, id: bigint, gender: string, dep_id: bigint]"
      ]
     },
     "metadata": {},
     "output_type": "display_data"
    }
   ],
   "source": [
    "display(data_df)"
   ]
  },
  {
   "cell_type": "markdown",
   "metadata": {},
   "source": []
  },
  {
   "cell_type": "markdown",
   "metadata": {},
   "source": []
  },
  {
   "cell_type": "code",
   "execution_count": 11,
   "metadata": {},
   "outputs": [
    {
     "data": {
      "text/plain": [
       "10"
      ]
     },
     "execution_count": 11,
     "metadata": {},
     "output_type": "execute_result"
    }
   ],
   "source": [
    "data_df.count()"
   ]
  },
  {
   "cell_type": "code",
   "execution_count": 12,
   "metadata": {},
   "outputs": [
    {
     "name": "stdout",
     "output_type": "stream",
     "text": [
      "+---------+--------+----------+---+------+------+\n",
      "|firstname|lastname|middlename| id|gender|dep_id|\n",
      "+---------+--------+----------+---+------+------+\n",
      "|     Amit|  Sharma|     Kumar|101|  Male|     1|\n",
      "|    Priya|   Verma|      Rani|102|Female|     2|\n",
      "|    Rahul|   Patil|       Raj|103|  Male|     1|\n",
      "|     Neha|   Desai|    Sunita|104|Female|     3|\n",
      "|   Suresh|   Yadav|   Chandra|105|  Male|     2|\n",
      "|   Kavita|   Singh|    Anjali|106|Female|     3|\n",
      "|    Vikas|     Rao|     Nitin|107|  Male|     1|\n",
      "|    Pooja|   Joshi|     Meera|108|Female|     2|\n",
      "|    Rohit|    Naik|     Dilip|109|  Male|     3|\n",
      "|    Anita|Kulkarni|     Leela|110|Female|     1|\n",
      "+---------+--------+----------+---+------+------+\n",
      "\n"
     ]
    }
   ],
   "source": [
    "data_df.show()"
   ]
  },
  {
   "cell_type": "code",
   "execution_count": 19,
   "metadata": {},
   "outputs": [
    {
     "name": "stdout",
     "output_type": "stream",
     "text": [
      "+---------+--------+----------+---+------+------+\n",
      "|firstname|lastname|middlename| id|gender|dep_id|\n",
      "+---------+--------+----------+---+------+------+\n",
      "|     Amit|  Sharma|     Kumar|101|  Male|     1|\n",
      "|    Priya|   Verma|      Rani|102|Female|     2|\n",
      "|    Rahul|   Patil|       Raj|103|  Male|     1|\n",
      "|     Neha|   Desai|    Sunita|104|Female|     3|\n",
      "|   Suresh|   Yadav|   Chandra|105|  Male|     2|\n",
      "|   Kavita|   Singh|    Anjali|106|Female|     3|\n",
      "|    Vikas|     Rao|     Nitin|107|  Male|     1|\n",
      "|    Pooja|   Joshi|     Meera|108|Female|     2|\n",
      "|    Rohit|    Naik|     Dilip|109|  Male|     3|\n",
      "|    Anita|Kulkarni|     Leela|110|Female|     1|\n",
      "+---------+--------+----------+---+------+------+\n",
      "\n"
     ]
    }
   ],
   "source": [
    "vertical=bool(False)\n",
    "data_df.show(truncate=True, vertical=False)  \n"
   ]
  },
  {
   "cell_type": "code",
   "execution_count": 20,
   "metadata": {},
   "outputs": [
    {
     "name": "stdout",
     "output_type": "stream",
     "text": [
      "-RECORD 0------------\n",
      " firstname  | Amit   \n",
      " lastname   | Sharma \n",
      " middlename | Kumar  \n",
      " id         | 101    \n",
      " gender     | Male   \n",
      " dep_id     | 1      \n",
      "only showing top 1 row\n",
      "\n"
     ]
    }
   ],
   "source": [
    "data_df.show(1,vertical=True)"
   ]
  },
  {
   "cell_type": "code",
   "execution_count": 15,
   "metadata": {},
   "outputs": [
    {
     "name": "stdout",
     "output_type": "stream",
     "text": [
      "-RECORD 0------------\n",
      " summary    | count  \n",
      " firstname  | 10     \n",
      " lastname   | 10     \n",
      " middlename | 10     \n",
      "-RECORD 1------------\n",
      " summary    | mean   \n",
      " firstname  | NULL   \n",
      " lastname   | NULL   \n",
      " middlename | NULL   \n",
      "-RECORD 2------------\n",
      " summary    | stddev \n",
      " firstname  | NULL   \n",
      " lastname   | NULL   \n",
      " middlename | NULL   \n",
      "-RECORD 3------------\n",
      " summary    | min    \n",
      " firstname  | Amit   \n",
      " lastname   | Desai  \n",
      " middlename | Anjali \n",
      "-RECORD 4------------\n",
      " summary    | max    \n",
      " firstname  | Vikas  \n",
      " lastname   | Yadav  \n",
      " middlename | Sunita \n",
      "\n"
     ]
    }
   ],
   "source": [
    "data_df.select(\"firstname\", \"lastname\", \"middlename\").describe().show(vertical=True)"
   ]
  },
  {
   "cell_type": "code",
   "execution_count": 21,
   "metadata": {},
   "outputs": [
    {
     "data": {
      "text/plain": [
       "[Row(firstname='Amit', lastname='Sharma', middlename='Kumar', id=101, gender='Male', dep_id=1),\n",
       " Row(firstname='Priya', lastname='Verma', middlename='Rani', id=102, gender='Female', dep_id=2),\n",
       " Row(firstname='Rahul', lastname='Patil', middlename='Raj', id=103, gender='Male', dep_id=1),\n",
       " Row(firstname='Neha', lastname='Desai', middlename='Sunita', id=104, gender='Female', dep_id=3),\n",
       " Row(firstname='Suresh', lastname='Yadav', middlename='Chandra', id=105, gender='Male', dep_id=2),\n",
       " Row(firstname='Kavita', lastname='Singh', middlename='Anjali', id=106, gender='Female', dep_id=3),\n",
       " Row(firstname='Vikas', lastname='Rao', middlename='Nitin', id=107, gender='Male', dep_id=1),\n",
       " Row(firstname='Pooja', lastname='Joshi', middlename='Meera', id=108, gender='Female', dep_id=2),\n",
       " Row(firstname='Rohit', lastname='Naik', middlename='Dilip', id=109, gender='Male', dep_id=3),\n",
       " Row(firstname='Anita', lastname='Kulkarni', middlename='Leela', id=110, gender='Female', dep_id=1)]"
      ]
     },
     "execution_count": 21,
     "metadata": {},
     "output_type": "execute_result"
    }
   ],
   "source": [
    "data_df.collect()"
   ]
  },
  {
   "cell_type": "code",
   "execution_count": 22,
   "metadata": {},
   "outputs": [
    {
     "name": "stdout",
     "output_type": "stream",
     "text": [
      "+---------+\n",
      "|firstname|\n",
      "+---------+\n",
      "|     Amit|\n",
      "|    Priya|\n",
      "|    Rahul|\n",
      "|     Neha|\n",
      "|   Suresh|\n",
      "|   Kavita|\n",
      "|    Vikas|\n",
      "|    Pooja|\n",
      "|    Rohit|\n",
      "|    Anita|\n",
      "+---------+\n",
      "\n"
     ]
    }
   ],
   "source": [
    "data_df.select(\"firstname\").show()"
   ]
  },
  {
   "cell_type": "code",
   "execution_count": 18,
   "metadata": {},
   "outputs": [
    {
     "name": "stdout",
     "output_type": "stream",
     "text": [
      "number of rows: 10\n"
     ]
    }
   ],
   "source": [
    "row_count = data_df.count()\n",
    "print(f'number of rows: {row_count}')"
   ]
  },
  {
   "cell_type": "code",
   "execution_count": null,
   "metadata": {},
   "outputs": [],
   "source": []
  }
 ],
 "metadata": {
  "kernelspec": {
   "display_name": "sparkenv",
   "language": "python",
   "name": "python3"
  },
  "language_info": {
   "codemirror_mode": {
    "name": "ipython",
    "version": 3
   },
   "file_extension": ".py",
   "mimetype": "text/x-python",
   "name": "python",
   "nbconvert_exporter": "python",
   "pygments_lexer": "ipython3",
   "version": "3.10.0"
  }
 },
 "nbformat": 4,
 "nbformat_minor": 2
}
